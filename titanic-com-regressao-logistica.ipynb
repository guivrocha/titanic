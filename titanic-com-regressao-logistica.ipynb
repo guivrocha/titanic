{
 "cells": [
  {
   "cell_type": "markdown",
   "id": "1fa6d255",
   "metadata": {
    "papermill": {
     "duration": 0.012869,
     "end_time": "2023-03-13T22:20:27.144413",
     "exception": false,
     "start_time": "2023-03-13T22:20:27.131544",
     "status": "completed"
    },
    "tags": []
   },
   "source": [
    "# Titanic: Machine Learning from Disaster\n",
    "\n",
    "Prevendo os sobreviventes do Titanic com a utilização de Regressão Logística\n"
   ]
  },
  {
   "cell_type": "markdown",
   "id": "010ae444",
   "metadata": {
    "papermill": {
     "duration": 0.012776,
     "end_time": "2023-03-13T22:20:27.168643",
     "exception": false,
     "start_time": "2023-03-13T22:20:27.155867",
     "status": "completed"
    },
    "tags": []
   },
   "source": [
    "## Definição do problema\n",
    "\n",
    "O naufrágio do Titanic foi um dos maiores desastres na história. Ocorrido em 15 de abril de 1912, após uma colisão com um iceberg, o navio afundou. O saldo final da tragédia foi um total de 1502 mortos de um total de 2224 pessoas (incluindo passageiros e tripulação). Um dos motivos para o grande número de vítimas (cerca de 68%) diz respeito à quantidade de botes bem inferior ao mínimo que seria necessário.\n",
    "\n",
    "Nessa situação, apesar do fator \"sorte\" ter feito parte na sobrevivência dos passageiros do Titanic, existiram grupos de pessoas que tinham uma maior probabilidade de escaparem da morte (como por exemplo mulheres, crianças e passageiros viajando na primeira-classe), como informa a descrição do próprio desafio.\n",
    "\n",
    "Dentro desse contexto, o site Kaggle fornece então um conjunto de dados aos competidores do desafio, contendo algumas informações (nome, idade, sexo, sobreviveu(sim/não), etc.) sobre 891 passageiros. É esperado que o competidor conduza uma análise e crie um modelo capaz de prever, com a maior acurácia possível, a condição de sobrevivência para os passageiros restantes (dataset de teste)."
   ]
  },
  {
   "cell_type": "markdown",
   "id": "048cdae5",
   "metadata": {
    "papermill": {
     "duration": 0.010757,
     "end_time": "2023-03-13T22:20:27.190612",
     "exception": false,
     "start_time": "2023-03-13T22:20:27.179855",
     "status": "completed"
    },
    "tags": []
   },
   "source": [
    "## Dados\n",
    "\n",
    "Disponíveis no https://www.kaggle.com/competitions/titanic em formato '.csv'.\n",
    "São divididos em:\n",
    "* Conjunto de treinamento (train.csv): para ser utilizado para construir os modelos de machine learning. Neste arquivo, possui a informação se cada passageiro sobreviveu ou não. \n",
    "\n",
    "* Conjunto de teste (test.csv): para verificar o quão bom o modelo construido é com dados não observados até então. Neste aqruivo, não é fornecida a condição de sobrevivência para cada passageiro. O modelo construído é que deve fazer essa previsão."
   ]
  },
  {
   "cell_type": "code",
   "execution_count": 1,
   "id": "51f0b33b",
   "metadata": {
    "execution": {
     "iopub.execute_input": "2023-03-13T22:20:27.215167Z",
     "iopub.status.busy": "2023-03-13T22:20:27.214398Z",
     "iopub.status.idle": "2023-03-13T22:20:28.378089Z",
     "shell.execute_reply": "2023-03-13T22:20:28.376668Z"
    },
    "papermill": {
     "duration": 1.179655,
     "end_time": "2023-03-13T22:20:28.381376",
     "exception": false,
     "start_time": "2023-03-13T22:20:27.201721",
     "status": "completed"
    },
    "tags": []
   },
   "outputs": [],
   "source": [
    "# Importação de bibliotecas para trabalhar com os dados do Titanic.\n",
    "\n",
    "# Análise de dados \n",
    "import pandas as pd\n",
    "import numpy as np\n",
    "\n",
    "# Visualização\n",
    "import seaborn as sns\n",
    "import matplotlib.pyplot as plt\n",
    "import seaborn as sns\n",
    "sns.set()\n",
    "%matplotlib inline \n",
    "\n",
    "# Desabilitar alertas do notebook\n",
    "import warnings\n",
    "warnings.filterwarnings('ignore')"
   ]
  },
  {
   "cell_type": "code",
   "execution_count": 2,
   "id": "fc54f05d",
   "metadata": {
    "execution": {
     "iopub.execute_input": "2023-03-13T22:20:28.406507Z",
     "iopub.status.busy": "2023-03-13T22:20:28.406113Z",
     "iopub.status.idle": "2023-03-13T22:20:28.413555Z",
     "shell.execute_reply": "2023-03-13T22:20:28.412368Z"
    },
    "papermill": {
     "duration": 0.022817,
     "end_time": "2023-03-13T22:20:28.415880",
     "exception": false,
     "start_time": "2023-03-13T22:20:28.393063",
     "status": "completed"
    },
    "tags": []
   },
   "outputs": [
    {
     "name": "stdout",
     "output_type": "stream",
     "text": [
      "/kaggle/input/titanic/train.csv\n",
      "/kaggle/input/titanic/test.csv\n",
      "/kaggle/input/titanic/gender_submission.csv\n"
     ]
    }
   ],
   "source": [
    "# Importando arquivos de treinamento e teste diretamente do Kaggle no Add Data: titanic\n",
    "import os\n",
    "for dirname, _, filenames in os.walk('/kaggle/input'):\n",
    "    for filename in filenames:\n",
    "        print(os.path.join(dirname, filename))"
   ]
  },
  {
   "cell_type": "code",
   "execution_count": 3,
   "id": "5e42f7a8",
   "metadata": {
    "execution": {
     "iopub.execute_input": "2023-03-13T22:20:28.440719Z",
     "iopub.status.busy": "2023-03-13T22:20:28.439710Z",
     "iopub.status.idle": "2023-03-13T22:20:28.475242Z",
     "shell.execute_reply": "2023-03-13T22:20:28.474160Z"
    },
    "papermill": {
     "duration": 0.050618,
     "end_time": "2023-03-13T22:20:28.477897",
     "exception": false,
     "start_time": "2023-03-13T22:20:28.427279",
     "status": "completed"
    },
    "tags": []
   },
   "outputs": [],
   "source": [
    "# Aquisição dos conjuntos de dados\n",
    "df_train = pd.read_csv('/kaggle/input/titanic/train.csv')\n",
    "df_test = pd.read_csv('/kaggle/input/titanic/test.csv')"
   ]
  },
  {
   "cell_type": "markdown",
   "id": "7c3a2a81",
   "metadata": {
    "papermill": {
     "duration": 0.010928,
     "end_time": "2023-03-13T22:20:28.500560",
     "exception": false,
     "start_time": "2023-03-13T22:20:28.489632",
     "status": "completed"
    },
    "tags": []
   },
   "source": [
    "## Análise Exploratória\n",
    "\n",
    "Inicialmente gerar as entradas e saídas do dataframe para ter conhecimento sobre como os dados estão estruturados."
   ]
  },
  {
   "cell_type": "code",
   "execution_count": 4,
   "id": "95053447",
   "metadata": {
    "execution": {
     "iopub.execute_input": "2023-03-13T22:20:28.524627Z",
     "iopub.status.busy": "2023-03-13T22:20:28.524249Z",
     "iopub.status.idle": "2023-03-13T22:20:28.557614Z",
     "shell.execute_reply": "2023-03-13T22:20:28.556322Z"
    },
    "papermill": {
     "duration": 0.048322,
     "end_time": "2023-03-13T22:20:28.560108",
     "exception": false,
     "start_time": "2023-03-13T22:20:28.511786",
     "status": "completed"
    },
    "tags": []
   },
   "outputs": [
    {
     "data": {
      "text/html": [
       "<div>\n",
       "<style scoped>\n",
       "    .dataframe tbody tr th:only-of-type {\n",
       "        vertical-align: middle;\n",
       "    }\n",
       "\n",
       "    .dataframe tbody tr th {\n",
       "        vertical-align: top;\n",
       "    }\n",
       "\n",
       "    .dataframe thead th {\n",
       "        text-align: right;\n",
       "    }\n",
       "</style>\n",
       "<table border=\"1\" class=\"dataframe\">\n",
       "  <thead>\n",
       "    <tr style=\"text-align: right;\">\n",
       "      <th></th>\n",
       "      <th>PassengerId</th>\n",
       "      <th>Survived</th>\n",
       "      <th>Pclass</th>\n",
       "      <th>Name</th>\n",
       "      <th>Sex</th>\n",
       "      <th>Age</th>\n",
       "      <th>SibSp</th>\n",
       "      <th>Parch</th>\n",
       "      <th>Ticket</th>\n",
       "      <th>Fare</th>\n",
       "      <th>Cabin</th>\n",
       "      <th>Embarked</th>\n",
       "    </tr>\n",
       "  </thead>\n",
       "  <tbody>\n",
       "    <tr>\n",
       "      <th>0</th>\n",
       "      <td>1</td>\n",
       "      <td>0</td>\n",
       "      <td>3</td>\n",
       "      <td>Braund, Mr. Owen Harris</td>\n",
       "      <td>male</td>\n",
       "      <td>22.0</td>\n",
       "      <td>1</td>\n",
       "      <td>0</td>\n",
       "      <td>A/5 21171</td>\n",
       "      <td>7.2500</td>\n",
       "      <td>NaN</td>\n",
       "      <td>S</td>\n",
       "    </tr>\n",
       "    <tr>\n",
       "      <th>1</th>\n",
       "      <td>2</td>\n",
       "      <td>1</td>\n",
       "      <td>1</td>\n",
       "      <td>Cumings, Mrs. John Bradley (Florence Briggs Th...</td>\n",
       "      <td>female</td>\n",
       "      <td>38.0</td>\n",
       "      <td>1</td>\n",
       "      <td>0</td>\n",
       "      <td>PC 17599</td>\n",
       "      <td>71.2833</td>\n",
       "      <td>C85</td>\n",
       "      <td>C</td>\n",
       "    </tr>\n",
       "    <tr>\n",
       "      <th>2</th>\n",
       "      <td>3</td>\n",
       "      <td>1</td>\n",
       "      <td>3</td>\n",
       "      <td>Heikkinen, Miss. Laina</td>\n",
       "      <td>female</td>\n",
       "      <td>26.0</td>\n",
       "      <td>0</td>\n",
       "      <td>0</td>\n",
       "      <td>STON/O2. 3101282</td>\n",
       "      <td>7.9250</td>\n",
       "      <td>NaN</td>\n",
       "      <td>S</td>\n",
       "    </tr>\n",
       "    <tr>\n",
       "      <th>3</th>\n",
       "      <td>4</td>\n",
       "      <td>1</td>\n",
       "      <td>1</td>\n",
       "      <td>Futrelle, Mrs. Jacques Heath (Lily May Peel)</td>\n",
       "      <td>female</td>\n",
       "      <td>35.0</td>\n",
       "      <td>1</td>\n",
       "      <td>0</td>\n",
       "      <td>113803</td>\n",
       "      <td>53.1000</td>\n",
       "      <td>C123</td>\n",
       "      <td>S</td>\n",
       "    </tr>\n",
       "    <tr>\n",
       "      <th>4</th>\n",
       "      <td>5</td>\n",
       "      <td>0</td>\n",
       "      <td>3</td>\n",
       "      <td>Allen, Mr. William Henry</td>\n",
       "      <td>male</td>\n",
       "      <td>35.0</td>\n",
       "      <td>0</td>\n",
       "      <td>0</td>\n",
       "      <td>373450</td>\n",
       "      <td>8.0500</td>\n",
       "      <td>NaN</td>\n",
       "      <td>S</td>\n",
       "    </tr>\n",
       "    <tr>\n",
       "      <th>...</th>\n",
       "      <td>...</td>\n",
       "      <td>...</td>\n",
       "      <td>...</td>\n",
       "      <td>...</td>\n",
       "      <td>...</td>\n",
       "      <td>...</td>\n",
       "      <td>...</td>\n",
       "      <td>...</td>\n",
       "      <td>...</td>\n",
       "      <td>...</td>\n",
       "      <td>...</td>\n",
       "      <td>...</td>\n",
       "    </tr>\n",
       "    <tr>\n",
       "      <th>886</th>\n",
       "      <td>887</td>\n",
       "      <td>0</td>\n",
       "      <td>2</td>\n",
       "      <td>Montvila, Rev. Juozas</td>\n",
       "      <td>male</td>\n",
       "      <td>27.0</td>\n",
       "      <td>0</td>\n",
       "      <td>0</td>\n",
       "      <td>211536</td>\n",
       "      <td>13.0000</td>\n",
       "      <td>NaN</td>\n",
       "      <td>S</td>\n",
       "    </tr>\n",
       "    <tr>\n",
       "      <th>887</th>\n",
       "      <td>888</td>\n",
       "      <td>1</td>\n",
       "      <td>1</td>\n",
       "      <td>Graham, Miss. Margaret Edith</td>\n",
       "      <td>female</td>\n",
       "      <td>19.0</td>\n",
       "      <td>0</td>\n",
       "      <td>0</td>\n",
       "      <td>112053</td>\n",
       "      <td>30.0000</td>\n",
       "      <td>B42</td>\n",
       "      <td>S</td>\n",
       "    </tr>\n",
       "    <tr>\n",
       "      <th>888</th>\n",
       "      <td>889</td>\n",
       "      <td>0</td>\n",
       "      <td>3</td>\n",
       "      <td>Johnston, Miss. Catherine Helen \"Carrie\"</td>\n",
       "      <td>female</td>\n",
       "      <td>NaN</td>\n",
       "      <td>1</td>\n",
       "      <td>2</td>\n",
       "      <td>W./C. 6607</td>\n",
       "      <td>23.4500</td>\n",
       "      <td>NaN</td>\n",
       "      <td>S</td>\n",
       "    </tr>\n",
       "    <tr>\n",
       "      <th>889</th>\n",
       "      <td>890</td>\n",
       "      <td>1</td>\n",
       "      <td>1</td>\n",
       "      <td>Behr, Mr. Karl Howell</td>\n",
       "      <td>male</td>\n",
       "      <td>26.0</td>\n",
       "      <td>0</td>\n",
       "      <td>0</td>\n",
       "      <td>111369</td>\n",
       "      <td>30.0000</td>\n",
       "      <td>C148</td>\n",
       "      <td>C</td>\n",
       "    </tr>\n",
       "    <tr>\n",
       "      <th>890</th>\n",
       "      <td>891</td>\n",
       "      <td>0</td>\n",
       "      <td>3</td>\n",
       "      <td>Dooley, Mr. Patrick</td>\n",
       "      <td>male</td>\n",
       "      <td>32.0</td>\n",
       "      <td>0</td>\n",
       "      <td>0</td>\n",
       "      <td>370376</td>\n",
       "      <td>7.7500</td>\n",
       "      <td>NaN</td>\n",
       "      <td>Q</td>\n",
       "    </tr>\n",
       "  </tbody>\n",
       "</table>\n",
       "<p>891 rows × 12 columns</p>\n",
       "</div>"
      ],
      "text/plain": [
       "     PassengerId  Survived  Pclass  \\\n",
       "0              1         0       3   \n",
       "1              2         1       1   \n",
       "2              3         1       3   \n",
       "3              4         1       1   \n",
       "4              5         0       3   \n",
       "..           ...       ...     ...   \n",
       "886          887         0       2   \n",
       "887          888         1       1   \n",
       "888          889         0       3   \n",
       "889          890         1       1   \n",
       "890          891         0       3   \n",
       "\n",
       "                                                  Name     Sex   Age  SibSp  \\\n",
       "0                              Braund, Mr. Owen Harris    male  22.0      1   \n",
       "1    Cumings, Mrs. John Bradley (Florence Briggs Th...  female  38.0      1   \n",
       "2                               Heikkinen, Miss. Laina  female  26.0      0   \n",
       "3         Futrelle, Mrs. Jacques Heath (Lily May Peel)  female  35.0      1   \n",
       "4                             Allen, Mr. William Henry    male  35.0      0   \n",
       "..                                                 ...     ...   ...    ...   \n",
       "886                              Montvila, Rev. Juozas    male  27.0      0   \n",
       "887                       Graham, Miss. Margaret Edith  female  19.0      0   \n",
       "888           Johnston, Miss. Catherine Helen \"Carrie\"  female   NaN      1   \n",
       "889                              Behr, Mr. Karl Howell    male  26.0      0   \n",
       "890                                Dooley, Mr. Patrick    male  32.0      0   \n",
       "\n",
       "     Parch            Ticket     Fare Cabin Embarked  \n",
       "0        0         A/5 21171   7.2500   NaN        S  \n",
       "1        0          PC 17599  71.2833   C85        C  \n",
       "2        0  STON/O2. 3101282   7.9250   NaN        S  \n",
       "3        0            113803  53.1000  C123        S  \n",
       "4        0            373450   8.0500   NaN        S  \n",
       "..     ...               ...      ...   ...      ...  \n",
       "886      0            211536  13.0000   NaN        S  \n",
       "887      0            112053  30.0000   B42        S  \n",
       "888      2        W./C. 6607  23.4500   NaN        S  \n",
       "889      0            111369  30.0000  C148        C  \n",
       "890      0            370376   7.7500   NaN        Q  \n",
       "\n",
       "[891 rows x 12 columns]"
      ]
     },
     "execution_count": 4,
     "metadata": {},
     "output_type": "execute_result"
    }
   ],
   "source": [
    "# Retorna os dados do dataframe\n",
    "df_train"
   ]
  },
  {
   "cell_type": "markdown",
   "id": "cf0f95f3",
   "metadata": {
    "papermill": {
     "duration": 0.011164,
     "end_time": "2023-03-13T22:20:28.583084",
     "exception": false,
     "start_time": "2023-03-13T22:20:28.571920",
     "status": "completed"
    },
    "tags": []
   },
   "source": [
    "### Significado das variáveis\n",
    "\n",
    "Cada coluna contém uma diferente variável importante para interpretação do problema e entendimento dos dados, sendo o significado:\n",
    "\n",
    "* *PassengerId*: ID do passageiro (de 0 a 890)\n",
    "* *Survived*: Sobreviveu (== 0) ou Não sobreviveu (== 1)\n",
    "* *Pclass*: Classe do passageiro (1st, 2nd, 3rd) - primeira, segunda e terceira classe\n",
    "    - Uma representação para o status socioeconômico (SES):\n",
    "            - 1st = Superior \n",
    "            - 2nd = Médio \n",
    "            - 3rd = Inferior\n",
    "* *Name*: Nome do passageiro\n",
    "* *Sex*: Sexo do passageiro (male == homem) ou (female == mulher)\n",
    "* *Age*: Idade\n",
    "    - Idade é fracionária se for menor que 1\n",
    "    - Se a idade for estimada ela está em forma de xx.5\n",
    "* *SibSp*: Número de irmãos (irmão/irmã e meio-irmão/meia-irmã) e cônjuges (marido e esposa, amantes e noivos foram ignorados) a bordo\n",
    "* *Parch*: Número de pais (mãe e pai) e crianças (filha/filho e enteada/enteado) a bordo \n",
    "    - Crianças viajando apenas com babá recebem Parch = 0\n",
    "* *Ticket*: Número do ticket de embarque\n",
    "* *Fare*: Tarifa paga pelo passageiro\n",
    "* *Cabin*: Número da cabine\n",
    "* *Embarked*: Porto de embarque (C == Cherbourg), (S == Southampton) e (Q == Queenstown)\n",
    "\n",
    "Podemos agora ver outras **informações sobre as variáveis** a fim de identificar o tipo de variável, a contagem do número de entradas para cada uma (tendo uma noção dos missing values ou dados fragmentados), valor mínimos/máximos, médias etc."
   ]
  },
  {
   "cell_type": "code",
   "execution_count": 5,
   "id": "def2f68c",
   "metadata": {
    "execution": {
     "iopub.execute_input": "2023-03-13T22:20:28.608393Z",
     "iopub.status.busy": "2023-03-13T22:20:28.607568Z",
     "iopub.status.idle": "2023-03-13T22:20:28.660720Z",
     "shell.execute_reply": "2023-03-13T22:20:28.659354Z"
    },
    "papermill": {
     "duration": 0.068838,
     "end_time": "2023-03-13T22:20:28.663382",
     "exception": false,
     "start_time": "2023-03-13T22:20:28.594544",
     "status": "completed"
    },
    "tags": []
   },
   "outputs": [
    {
     "name": "stdout",
     "output_type": "stream",
     "text": [
      "<class 'pandas.core.frame.DataFrame'>\n",
      "RangeIndex: 891 entries, 0 to 890\n",
      "Data columns (total 12 columns):\n",
      " #   Column       Non-Null Count  Dtype  \n",
      "---  ------       --------------  -----  \n",
      " 0   PassengerId  891 non-null    int64  \n",
      " 1   Survived     891 non-null    int64  \n",
      " 2   Pclass       891 non-null    int64  \n",
      " 3   Name         891 non-null    object \n",
      " 4   Sex          891 non-null    object \n",
      " 5   Age          714 non-null    float64\n",
      " 6   SibSp        891 non-null    int64  \n",
      " 7   Parch        891 non-null    int64  \n",
      " 8   Ticket       891 non-null    object \n",
      " 9   Fare         891 non-null    float64\n",
      " 10  Cabin        204 non-null    object \n",
      " 11  Embarked     889 non-null    object \n",
      "dtypes: float64(2), int64(5), object(5)\n",
      "memory usage: 83.7+ KB\n"
     ]
    },
    {
     "data": {
      "text/html": [
       "<div>\n",
       "<style scoped>\n",
       "    .dataframe tbody tr th:only-of-type {\n",
       "        vertical-align: middle;\n",
       "    }\n",
       "\n",
       "    .dataframe tbody tr th {\n",
       "        vertical-align: top;\n",
       "    }\n",
       "\n",
       "    .dataframe thead th {\n",
       "        text-align: right;\n",
       "    }\n",
       "</style>\n",
       "<table border=\"1\" class=\"dataframe\">\n",
       "  <thead>\n",
       "    <tr style=\"text-align: right;\">\n",
       "      <th></th>\n",
       "      <th>PassengerId</th>\n",
       "      <th>Survived</th>\n",
       "      <th>Pclass</th>\n",
       "      <th>Age</th>\n",
       "      <th>SibSp</th>\n",
       "      <th>Parch</th>\n",
       "      <th>Fare</th>\n",
       "    </tr>\n",
       "  </thead>\n",
       "  <tbody>\n",
       "    <tr>\n",
       "      <th>count</th>\n",
       "      <td>891.000000</td>\n",
       "      <td>891.000000</td>\n",
       "      <td>891.000000</td>\n",
       "      <td>714.000000</td>\n",
       "      <td>891.000000</td>\n",
       "      <td>891.000000</td>\n",
       "      <td>891.000000</td>\n",
       "    </tr>\n",
       "    <tr>\n",
       "      <th>mean</th>\n",
       "      <td>446.000000</td>\n",
       "      <td>0.383838</td>\n",
       "      <td>2.308642</td>\n",
       "      <td>29.699118</td>\n",
       "      <td>0.523008</td>\n",
       "      <td>0.381594</td>\n",
       "      <td>32.204208</td>\n",
       "    </tr>\n",
       "    <tr>\n",
       "      <th>std</th>\n",
       "      <td>257.353842</td>\n",
       "      <td>0.486592</td>\n",
       "      <td>0.836071</td>\n",
       "      <td>14.526497</td>\n",
       "      <td>1.102743</td>\n",
       "      <td>0.806057</td>\n",
       "      <td>49.693429</td>\n",
       "    </tr>\n",
       "    <tr>\n",
       "      <th>min</th>\n",
       "      <td>1.000000</td>\n",
       "      <td>0.000000</td>\n",
       "      <td>1.000000</td>\n",
       "      <td>0.420000</td>\n",
       "      <td>0.000000</td>\n",
       "      <td>0.000000</td>\n",
       "      <td>0.000000</td>\n",
       "    </tr>\n",
       "    <tr>\n",
       "      <th>25%</th>\n",
       "      <td>223.500000</td>\n",
       "      <td>0.000000</td>\n",
       "      <td>2.000000</td>\n",
       "      <td>20.125000</td>\n",
       "      <td>0.000000</td>\n",
       "      <td>0.000000</td>\n",
       "      <td>7.910400</td>\n",
       "    </tr>\n",
       "    <tr>\n",
       "      <th>50%</th>\n",
       "      <td>446.000000</td>\n",
       "      <td>0.000000</td>\n",
       "      <td>3.000000</td>\n",
       "      <td>28.000000</td>\n",
       "      <td>0.000000</td>\n",
       "      <td>0.000000</td>\n",
       "      <td>14.454200</td>\n",
       "    </tr>\n",
       "    <tr>\n",
       "      <th>75%</th>\n",
       "      <td>668.500000</td>\n",
       "      <td>1.000000</td>\n",
       "      <td>3.000000</td>\n",
       "      <td>38.000000</td>\n",
       "      <td>1.000000</td>\n",
       "      <td>0.000000</td>\n",
       "      <td>31.000000</td>\n",
       "    </tr>\n",
       "    <tr>\n",
       "      <th>max</th>\n",
       "      <td>891.000000</td>\n",
       "      <td>1.000000</td>\n",
       "      <td>3.000000</td>\n",
       "      <td>80.000000</td>\n",
       "      <td>8.000000</td>\n",
       "      <td>6.000000</td>\n",
       "      <td>512.329200</td>\n",
       "    </tr>\n",
       "  </tbody>\n",
       "</table>\n",
       "</div>"
      ],
      "text/plain": [
       "       PassengerId    Survived      Pclass         Age       SibSp  \\\n",
       "count   891.000000  891.000000  891.000000  714.000000  891.000000   \n",
       "mean    446.000000    0.383838    2.308642   29.699118    0.523008   \n",
       "std     257.353842    0.486592    0.836071   14.526497    1.102743   \n",
       "min       1.000000    0.000000    1.000000    0.420000    0.000000   \n",
       "25%     223.500000    0.000000    2.000000   20.125000    0.000000   \n",
       "50%     446.000000    0.000000    3.000000   28.000000    0.000000   \n",
       "75%     668.500000    1.000000    3.000000   38.000000    1.000000   \n",
       "max     891.000000    1.000000    3.000000   80.000000    8.000000   \n",
       "\n",
       "            Parch        Fare  \n",
       "count  891.000000  891.000000  \n",
       "mean     0.381594   32.204208  \n",
       "std      0.806057   49.693429  \n",
       "min      0.000000    0.000000  \n",
       "25%      0.000000    7.910400  \n",
       "50%      0.000000   14.454200  \n",
       "75%      0.000000   31.000000  \n",
       "max      6.000000  512.329200  "
      ]
     },
     "execution_count": 5,
     "metadata": {},
     "output_type": "execute_result"
    }
   ],
   "source": [
    "# Informações sobre as variáveis \n",
    "df_train.info()\n",
    "df_train.describe()"
   ]
  },
  {
   "cell_type": "markdown",
   "id": "4c908d11",
   "metadata": {
    "papermill": {
     "duration": 0.011906,
     "end_time": "2023-03-13T22:20:28.687144",
     "exception": false,
     "start_time": "2023-03-13T22:20:28.675238",
     "status": "completed"
    },
    "tags": []
   },
   "source": [
    "O método **.info()** retorna um resumo conciso do dataframe, permitindo identificar o tipo da variável em cada coluna. Já o método **.describe()** retorna diferentes características das colunas numéricas do dataframe (distribuições estatísticas)."
   ]
  },
  {
   "cell_type": "markdown",
   "id": "2baad027",
   "metadata": {
    "papermill": {
     "duration": 0.011708,
     "end_time": "2023-03-13T22:20:28.710616",
     "exception": false,
     "start_time": "2023-03-13T22:20:28.698908",
     "status": "completed"
    },
    "tags": []
   },
   "source": [
    "#### Missing Values\n",
    "\n",
    "Com isso, é possível identificar que as colunas que possuem missing values (ou seja, seus dados precisam ser corrigidos) são:\n",
    "\n",
    "* 'Cabin'\n",
    "* 'Age'\n",
    "* 'Embarked'\n",
    "\n",
    "Dentre essas variáveis, a que pode apresentar maiores problemas ao implementarmos um modelo de machine learning é a Age, uma vez que corresponde a catacterísticas diretas dos passageiros, sendo um dado fundamental durante a análise exploratória.\n",
    "\n",
    "Contudo, podemos tratar esses valores ausentes mais adiante, usando algumas alternativas para remover ou substituir esses dados faltantes."
   ]
  },
  {
   "cell_type": "markdown",
   "id": "7dc6a0c3",
   "metadata": {
    "papermill": {
     "duration": 0.011543,
     "end_time": "2023-03-13T22:20:28.734099",
     "exception": false,
     "start_time": "2023-03-13T22:20:28.722556",
     "status": "completed"
    },
    "tags": []
   },
   "source": [
    "#### Outliers\n",
    "Podemos também perceber que existem outliers presentes no conjunto de dados, mais especificamente nas variáveis Age e Fare. É provável que existam valores discrepantes presentes em outras variáveis também."
   ]
  },
  {
   "cell_type": "code",
   "execution_count": 6,
   "id": "8fde2e0d",
   "metadata": {
    "execution": {
     "iopub.execute_input": "2023-03-13T22:20:28.760542Z",
     "iopub.status.busy": "2023-03-13T22:20:28.760114Z",
     "iopub.status.idle": "2023-03-13T22:20:29.332325Z",
     "shell.execute_reply": "2023-03-13T22:20:29.331225Z"
    },
    "papermill": {
     "duration": 0.588631,
     "end_time": "2023-03-13T22:20:29.334899",
     "exception": false,
     "start_time": "2023-03-13T22:20:28.746268",
     "status": "completed"
    },
    "tags": []
   },
   "outputs": [
    {
     "data": {
      "image/png": "[encoded data removed]",
      "text/plain": [
       "<Figure size 1080x432 with 2 Axes>"
      ]
     },
     "metadata": {
      "needs_background": "light"
     },
     "output_type": "display_data"
    }
   ],
   "source": [
    "# Boxplot das variáveis Age e Fare\n",
    "fig, (axis1, axis2) = plt.subplots(2,1, figsize = (15,6))\n",
    "sns.boxplot(data = df_train, x = 'Age', ax = axis1)\n",
    "sns.boxplot(data = df_train, x = 'Fare', ax = axis2)\n",
    "\n",
    "plt.tight_layout()"
   ]
  },
  {
   "cell_type": "markdown",
   "id": "3089baa8",
   "metadata": {
    "papermill": {
     "duration": 0.011608,
     "end_time": "2023-03-13T22:20:29.358828",
     "exception": false,
     "start_time": "2023-03-13T22:20:29.347220",
     "status": "completed"
    },
    "tags": []
   },
   "source": [
    "## Análise mais específica e detecção de padrões\n",
    "\n",
    "Após extrairmos algumas informações iniciais do conjunto de dados, podemos partir para questionamentos mais específicos, relacionados diretamente à chance de sobrevivência de um determinado grupo de passageiros, considerando classe de embarque, sexo, idade, etc."
   ]
  },
  {
   "cell_type": "code",
   "execution_count": 7,
   "id": "f7025b73",
   "metadata": {
    "execution": {
     "iopub.execute_input": "2023-03-13T22:20:29.384549Z",
     "iopub.status.busy": "2023-03-13T22:20:29.384154Z",
     "iopub.status.idle": "2023-03-13T22:20:30.161368Z",
     "shell.execute_reply": "2023-03-13T22:20:30.160379Z"
    },
    "papermill": {
     "duration": 0.792949,
     "end_time": "2023-03-13T22:20:30.163696",
     "exception": false,
     "start_time": "2023-03-13T22:20:29.370747",
     "status": "completed"
    },
    "tags": []
   },
   "outputs": [
    {
     "data": {
      "image/png": "[encoded data removed]",
      "text/plain": [
       "<Figure size 1080x360 with 3 Axes>"
      ]
     },
     "metadata": {
      "needs_background": "light"
     },
     "output_type": "display_data"
    }
   ],
   "source": [
    "fig, (axis1, axis2, axis3) = plt.subplots(1,3, figsize = (15,5))\n",
    "\n",
    "sns.barplot(data = df_train, x = 'Sex', y = 'Survived', ax = axis1)\n",
    "sns.barplot(data = df_train, x = 'Pclass', y = 'Survived', ax = axis2)\n",
    "sns.barplot(data = df_train, x = 'Embarked', y = 'Survived', ax = axis3)\n",
    "\n",
    "plt.tight_layout()"
   ]
  },
  {
   "cell_type": "markdown",
   "id": "cc3237b7",
   "metadata": {
    "papermill": {
     "duration": 0.012203,
     "end_time": "2023-03-13T22:20:30.188747",
     "exception": false,
     "start_time": "2023-03-13T22:20:30.176544",
     "status": "completed"
    },
    "tags": []
   },
   "source": [
    "A partir da análise dos três gráficos acima, podemos extrair duas informações importantes:\n",
    "\n",
    "* As mulheres têm muito mais chances de sobreviverem do que os homens, enquanto elas possuem cerca de 75% de chances, os homens apresentam cerca de 18%.\n",
    "\n",
    "* Os passageiros que viajaram na 1ª Classe possuem mais que o dobro de chances de sobreviverem em relação aos que compraram a 3ª Classe.\n",
    "\n",
    "* Os passageiros que embarcaram a partir da cidade de Cherbourg são os que mais têm chances de sobreviverem, enquanto os que embarcaram em Southampton, possuem as menores chances."
   ]
  },
  {
   "cell_type": "markdown",
   "id": "6e4938af",
   "metadata": {
    "papermill": {
     "duration": 0.012053,
     "end_time": "2023-03-13T22:20:30.213184",
     "exception": false,
     "start_time": "2023-03-13T22:20:30.201131",
     "status": "completed"
    },
    "tags": []
   },
   "source": [
    "As probabilidades de sobrevivência das mulheres no desastre do Titanic se estesdem para todos os casos individuais, para todas as classes de viagem e cidades de embarque, como podemos observar nos gráficos abaixo."
   ]
  },
  {
   "cell_type": "code",
   "execution_count": 8,
   "id": "b0b6c2fd",
   "metadata": {
    "execution": {
     "iopub.execute_input": "2023-03-13T22:20:30.240463Z",
     "iopub.status.busy": "2023-03-13T22:20:30.239660Z",
     "iopub.status.idle": "2023-03-13T22:20:31.603212Z",
     "shell.execute_reply": "2023-03-13T22:20:31.602002Z"
    },
    "papermill": {
     "duration": 1.379788,
     "end_time": "2023-03-13T22:20:31.605646",
     "exception": false,
     "start_time": "2023-03-13T22:20:30.225858",
     "status": "completed"
    },
    "tags": []
   },
   "outputs": [
    {
     "data": {
      "image/png": "[encoded data removed]",
      "text/plain": [
       "<Figure size 864x360 with 3 Axes>"
      ]
     },
     "metadata": {
      "needs_background": "light"
     },
     "output_type": "display_data"
    },
    {
     "data": {
      "image/png": "[encoded data removed]",
      "text/plain": [
       "<Figure size 864x360 with 3 Axes>"
      ]
     },
     "metadata": {
      "needs_background": "light"
     },
     "output_type": "display_data"
    }
   ],
   "source": [
    "sns.catplot(x = \"Sex\", y = \"Survived\", col = \"Pclass\", data = df_train, \n",
    "            saturation = .5, kind = \"bar\", ci = None, aspect = 0.8)\n",
    "sns.catplot(x = \"Sex\", y = \"Survived\", col = \"Embarked\", data = df_train, \n",
    "            saturation = .5, kind = \"bar\", ci = None, aspect = 0.8)\n",
    "\n",
    "plt.tight_layout()\n",
    "     "
   ]
  },
  {
   "cell_type": "markdown",
   "id": "c74d0e84",
   "metadata": {
    "papermill": {
     "duration": 0.012519,
     "end_time": "2023-03-13T22:20:31.631143",
     "exception": false,
     "start_time": "2023-03-13T22:20:31.618624",
     "status": "completed"
    },
    "tags": []
   },
   "source": [
    "Também podemos realizar a análise em relação às idades dos passageiros e saber quais tiveram mais chances de sobreviver."
   ]
  },
  {
   "cell_type": "code",
   "execution_count": 9,
   "id": "10a73ef1",
   "metadata": {
    "execution": {
     "iopub.execute_input": "2023-03-13T22:20:31.663374Z",
     "iopub.status.busy": "2023-03-13T22:20:31.662632Z",
     "iopub.status.idle": "2023-03-13T22:20:32.469364Z",
     "shell.execute_reply": "2023-03-13T22:20:32.468141Z"
    },
    "papermill": {
     "duration": 0.828179,
     "end_time": "2023-03-13T22:20:32.472080",
     "exception": false,
     "start_time": "2023-03-13T22:20:31.643901",
     "status": "completed"
    },
    "tags": []
   },
   "outputs": [
    {
     "data": {
      "image/png": "[encoded data removed]",
      "text/plain": [
       "<Figure size 720x360 with 2 Axes>"
      ]
     },
     "metadata": {
      "needs_background": "light"
     },
     "output_type": "display_data"
    }
   ],
   "source": [
    "sns.FacetGrid(df_train, col = 'Survived', height = 5).map(sns.distplot, 'Age')\n",
    "\n",
    "plt.tight_layout()"
   ]
  },
  {
   "cell_type": "code",
   "execution_count": 10,
   "id": "4f9f1480",
   "metadata": {
    "execution": {
     "iopub.execute_input": "2023-03-13T22:20:32.502046Z",
     "iopub.status.busy": "2023-03-13T22:20:32.501625Z",
     "iopub.status.idle": "2023-03-13T22:20:32.511826Z",
     "shell.execute_reply": "2023-03-13T22:20:32.509996Z"
    },
    "papermill": {
     "duration": 0.027611,
     "end_time": "2023-03-13T22:20:32.514433",
     "exception": false,
     "start_time": "2023-03-13T22:20:32.486822",
     "status": "completed"
    },
    "tags": []
   },
   "outputs": [
    {
     "name": "stdout",
     "output_type": "stream",
     "text": [
      "0.10    14.000\n",
      "0.25    20.125\n",
      "0.50    28.000\n",
      "0.75    38.000\n",
      "0.99    65.870\n",
      "Name: Age, dtype: float64\n"
     ]
    }
   ],
   "source": [
    "print(df_train['Age'].quantile([.1, .25, .5, .75, .99]))"
   ]
  },
  {
   "cell_type": "markdown",
   "id": "0e238811",
   "metadata": {
    "papermill": {
     "duration": 0.013426,
     "end_time": "2023-03-13T22:20:32.541814",
     "exception": false,
     "start_time": "2023-03-13T22:20:32.528388",
     "status": "completed"
    },
    "tags": []
   },
   "source": [
    "Os gráficos acima mostram a distribuição de idades para os sobreviventes e mortes no naufrágio, podemos perceber que a maior parte dos passageiros, nas duas situações, possuem idades entre 20 e 30 anos.\n",
    "\n",
    "Sendo que 75% dos passageiros têm até 38 anos e menos de 1% têm mais de 65 anos.\n",
    "\n",
    "No gráfico da direita (sobreviventes), podemos perceber que há um pico nos passageiros que possuem idade de até 5 anos, mostrando que crianças um pouco menores têm mais chances de sobreviver."
   ]
  },
  {
   "cell_type": "markdown",
   "id": "0948c8aa",
   "metadata": {
    "papermill": {
     "duration": 0.013239,
     "end_time": "2023-03-13T22:20:32.568737",
     "exception": false,
     "start_time": "2023-03-13T22:20:32.555498",
     "status": "completed"
    },
    "tags": []
   },
   "source": [
    "### Correlações entre features e o target\n",
    "\n",
    "Através do heatmap, podemos entender a correlação entre as variáveis explicativas e o target ('Survived'), sendo elas positivas ou negativas."
   ]
  },
  {
   "cell_type": "code",
   "execution_count": 11,
   "id": "65a5ae7d",
   "metadata": {
    "execution": {
     "iopub.execute_input": "2023-03-13T22:20:32.598124Z",
     "iopub.status.busy": "2023-03-13T22:20:32.597711Z",
     "iopub.status.idle": "2023-03-13T22:20:33.315052Z",
     "shell.execute_reply": "2023-03-13T22:20:33.313869Z"
    },
    "papermill": {
     "duration": 0.735426,
     "end_time": "2023-03-13T22:20:33.317883",
     "exception": false,
     "start_time": "2023-03-13T22:20:32.582457",
     "status": "completed"
    },
    "tags": []
   },
   "outputs": [
    {
     "data": {
      "image/png": "[encoded data removed]",
      "text/plain": [
       "<Figure size 576x432 with 2 Axes>"
      ]
     },
     "metadata": {
      "needs_background": "light"
     },
     "output_type": "display_data"
    }
   ],
   "source": [
    "fig, ax = plt.subplots(figsize = (8,6))\n",
    "ax = sns.heatmap(df_train.corr(), fmt = '.2g', cmap = 'YlGn', annot= True)\n",
    "plt.tight_layout()"
   ]
  },
  {
   "cell_type": "markdown",
   "id": "a87fccb5",
   "metadata": {
    "papermill": {
     "duration": 0.014337,
     "end_time": "2023-03-13T22:20:33.346881",
     "exception": false,
     "start_time": "2023-03-13T22:20:33.332544",
     "status": "completed"
    },
    "tags": []
   },
   "source": [
    "As maiores correlações apresentadas foram entre as variáveis Parch e SibSp, cujo valor é de 0,41.\n",
    "\n",
    "Ao final dessa análise exploratória, foi possível entender melhor os dados e como eles se comportam, extraindo informações que serão importantes ao implementar o modelo de machine learning, pois será mais fácil escolher as melhores variáveis para melhorar o desempenho do modelo."
   ]
  },
  {
   "cell_type": "markdown",
   "id": "beb8820d",
   "metadata": {
    "papermill": {
     "duration": 0.013917,
     "end_time": "2023-03-13T22:20:33.375127",
     "exception": false,
     "start_time": "2023-03-13T22:20:33.361210",
     "status": "completed"
    },
    "tags": []
   },
   "source": [
    "## Modelo de Machine Learning \n",
    "\n",
    "A **Regressão Logística** é uma técnica estatística que tem como objetivo produzir, a partir de um conjunto de observações, um modelo que permita a predição de valores tomados por uma variável dependente *Y*, frequentemente binária ou dicotômica (0 ou 1), em função de uma ou mais variáveis independentes contínuas e/ou binárias.\n",
    "\n",
    "Então, a partir desse modelo gerado é possível calcular ou prever a probabilidade de um evento ocorrer, dado uma observação aleatória."
   ]
  },
  {
   "cell_type": "markdown",
   "id": "80b83044",
   "metadata": {
    "papermill": {
     "duration": 0.014153,
     "end_time": "2023-03-13T22:20:33.404297",
     "exception": false,
     "start_time": "2023-03-13T22:20:33.390144",
     "status": "completed"
    },
    "tags": []
   },
   "source": [
    "#### Preparação dos Dados\n",
    "\n",
    "Nesta etapa, devemos nos preocupar em fazer os ajustes finais dos dados e tratá-los para alimentar o modelo. Esses ajustes envolver a seleção das features, criação de novas variáveis, limpeza dos dados, separação do dataset, etc."
   ]
  },
  {
   "cell_type": "markdown",
   "id": "c481a30e",
   "metadata": {
    "papermill": {
     "duration": 0.015678,
     "end_time": "2023-03-13T22:20:33.434504",
     "exception": false,
     "start_time": "2023-03-13T22:20:33.418826",
     "status": "completed"
    },
    "tags": []
   },
   "source": [
    "#### Organização dos Conjuntos de Dados\n",
    "\n",
    "Apesar de os datasets de treino e testes estarem inicialmente separados, uma boa prática é juntá-los em um único dataset para poder aplicar as devidas alterações e depois separá-los novamente. Isso, além de importante, oferece praticidade, pois as mudanças precisam ser as mesmas para os dois conjuntos de dados."
   ]
  },
  {
   "cell_type": "code",
   "execution_count": 12,
   "id": "e834d23b",
   "metadata": {
    "execution": {
     "iopub.execute_input": "2023-03-13T22:20:33.466413Z",
     "iopub.status.busy": "2023-03-13T22:20:33.466024Z",
     "iopub.status.idle": "2023-03-13T22:20:33.471239Z",
     "shell.execute_reply": "2023-03-13T22:20:33.470019Z"
    },
    "papermill": {
     "duration": 0.023333,
     "end_time": "2023-03-13T22:20:33.473568",
     "exception": false,
     "start_time": "2023-03-13T22:20:33.450235",
     "status": "completed"
    },
    "tags": []
   },
   "outputs": [],
   "source": [
    "# Salvando os índeces para recuperação dos conjuntos de dados\n",
    "train_ID = df_train.shape[0]\n",
    "test_ID = df_test.shape[0]"
   ]
  },
  {
   "cell_type": "code",
   "execution_count": 13,
   "id": "cbc0b915",
   "metadata": {
    "execution": {
     "iopub.execute_input": "2023-03-13T22:20:33.503717Z",
     "iopub.status.busy": "2023-03-13T22:20:33.503337Z",
     "iopub.status.idle": "2023-03-13T22:20:33.507840Z",
     "shell.execute_reply": "2023-03-13T22:20:33.507032Z"
    },
    "papermill": {
     "duration": 0.022186,
     "end_time": "2023-03-13T22:20:33.510064",
     "exception": false,
     "start_time": "2023-03-13T22:20:33.487878",
     "status": "completed"
    },
    "tags": []
   },
   "outputs": [],
   "source": [
    "# Salvando a variável 'PassengerId' para submissão \n",
    "Passenger_ID = df_test.PassengerId"
   ]
  },
  {
   "cell_type": "code",
   "execution_count": 14,
   "id": "ca95c6a3",
   "metadata": {
    "execution": {
     "iopub.execute_input": "2023-03-13T22:20:33.541079Z",
     "iopub.status.busy": "2023-03-13T22:20:33.540388Z",
     "iopub.status.idle": "2023-03-13T22:20:33.546839Z",
     "shell.execute_reply": "2023-03-13T22:20:33.545534Z"
    },
    "papermill": {
     "duration": 0.024838,
     "end_time": "2023-03-13T22:20:33.549222",
     "exception": false,
     "start_time": "2023-03-13T22:20:33.524384",
     "status": "completed"
    },
    "tags": []
   },
   "outputs": [],
   "source": [
    "# Salvando o target e separando do dataset de treino\n",
    "target = df_train['Survived'].copy()\n",
    "df_train.drop(['Survived'], axis = 1, inplace = True)"
   ]
  },
  {
   "cell_type": "code",
   "execution_count": 15,
   "id": "857aa581",
   "metadata": {
    "execution": {
     "iopub.execute_input": "2023-03-13T22:20:33.580173Z",
     "iopub.status.busy": "2023-03-13T22:20:33.579263Z",
     "iopub.status.idle": "2023-03-13T22:20:33.587910Z",
     "shell.execute_reply": "2023-03-13T22:20:33.587055Z"
    },
    "papermill": {
     "duration": 0.026517,
     "end_time": "2023-03-13T22:20:33.590178",
     "exception": false,
     "start_time": "2023-03-13T22:20:33.563661",
     "status": "completed"
    },
    "tags": []
   },
   "outputs": [],
   "source": [
    "# Unindo os conjuntos de dados\n",
    "df_total = pd.concat(objs = [df_train, df_test], axis = 0).reset_index(drop = True)"
   ]
  },
  {
   "cell_type": "code",
   "execution_count": 16,
   "id": "d000f344",
   "metadata": {
    "execution": {
     "iopub.execute_input": "2023-03-13T22:20:33.621234Z",
     "iopub.status.busy": "2023-03-13T22:20:33.620147Z",
     "iopub.status.idle": "2023-03-13T22:20:33.626141Z",
     "shell.execute_reply": "2023-03-13T22:20:33.625227Z"
    },
    "papermill": {
     "duration": 0.023685,
     "end_time": "2023-03-13T22:20:33.628229",
     "exception": false,
     "start_time": "2023-03-13T22:20:33.604544",
     "status": "completed"
    },
    "tags": []
   },
   "outputs": [
    {
     "data": {
      "text/plain": [
       "(1309, 11)"
      ]
     },
     "execution_count": 16,
     "metadata": {},
     "output_type": "execute_result"
    }
   ],
   "source": [
    "# Visualizar quantidade de dados total no conjunto \n",
    "df_total.shape"
   ]
  },
  {
   "cell_type": "markdown",
   "id": "a22d8658",
   "metadata": {
    "papermill": {
     "duration": 0.014358,
     "end_time": "2023-03-13T22:20:33.657016",
     "exception": false,
     "start_time": "2023-03-13T22:20:33.642658",
     "status": "completed"
    },
    "tags": []
   },
   "source": [
    "#### Selecionando as Principais Variáveis\n",
    "\n",
    "Nesta etapa, é fundamental selecionarmos as variáveis que realmente são relevantes para a construção do modelo. Sendo neste ca serem consideradas apenas as variáveis Pclass, Sex, Age, SibSp, Parch, Fare, Embarked."
   ]
  },
  {
   "cell_type": "code",
   "execution_count": 17,
   "id": "b6aa2705",
   "metadata": {
    "execution": {
     "iopub.execute_input": "2023-03-13T22:20:33.688954Z",
     "iopub.status.busy": "2023-03-13T22:20:33.687824Z",
     "iopub.status.idle": "2023-03-13T22:20:33.694645Z",
     "shell.execute_reply": "2023-03-13T22:20:33.693861Z"
    },
    "papermill": {
     "duration": 0.02509,
     "end_time": "2023-03-13T22:20:33.696919",
     "exception": false,
     "start_time": "2023-03-13T22:20:33.671829",
     "status": "completed"
    },
    "tags": []
   },
   "outputs": [],
   "source": [
    "# Removendo as variáveis que não serão utilizadas \n",
    "df_total.drop(['PassengerId', 'Name', 'Ticket', 'Cabin'], axis = 1, inplace = True)"
   ]
  },
  {
   "cell_type": "code",
   "execution_count": 18,
   "id": "0ad6d0b1",
   "metadata": {
    "execution": {
     "iopub.execute_input": "2023-03-13T22:20:33.728165Z",
     "iopub.status.busy": "2023-03-13T22:20:33.727436Z",
     "iopub.status.idle": "2023-03-13T22:20:33.742308Z",
     "shell.execute_reply": "2023-03-13T22:20:33.741038Z"
    },
    "papermill": {
     "duration": 0.033452,
     "end_time": "2023-03-13T22:20:33.744768",
     "exception": false,
     "start_time": "2023-03-13T22:20:33.711316",
     "status": "completed"
    },
    "tags": []
   },
   "outputs": [
    {
     "data": {
      "text/html": [
       "<div>\n",
       "<style scoped>\n",
       "    .dataframe tbody tr th:only-of-type {\n",
       "        vertical-align: middle;\n",
       "    }\n",
       "\n",
       "    .dataframe tbody tr th {\n",
       "        vertical-align: top;\n",
       "    }\n",
       "\n",
       "    .dataframe thead th {\n",
       "        text-align: right;\n",
       "    }\n",
       "</style>\n",
       "<table border=\"1\" class=\"dataframe\">\n",
       "  <thead>\n",
       "    <tr style=\"text-align: right;\">\n",
       "      <th></th>\n",
       "      <th>Pclass</th>\n",
       "      <th>Sex</th>\n",
       "      <th>Age</th>\n",
       "      <th>SibSp</th>\n",
       "      <th>Parch</th>\n",
       "      <th>Fare</th>\n",
       "      <th>Embarked</th>\n",
       "    </tr>\n",
       "  </thead>\n",
       "  <tbody>\n",
       "    <tr>\n",
       "      <th>0</th>\n",
       "      <td>3</td>\n",
       "      <td>male</td>\n",
       "      <td>22.0</td>\n",
       "      <td>1</td>\n",
       "      <td>0</td>\n",
       "      <td>7.2500</td>\n",
       "      <td>S</td>\n",
       "    </tr>\n",
       "    <tr>\n",
       "      <th>1</th>\n",
       "      <td>1</td>\n",
       "      <td>female</td>\n",
       "      <td>38.0</td>\n",
       "      <td>1</td>\n",
       "      <td>0</td>\n",
       "      <td>71.2833</td>\n",
       "      <td>C</td>\n",
       "    </tr>\n",
       "    <tr>\n",
       "      <th>2</th>\n",
       "      <td>3</td>\n",
       "      <td>female</td>\n",
       "      <td>26.0</td>\n",
       "      <td>0</td>\n",
       "      <td>0</td>\n",
       "      <td>7.9250</td>\n",
       "      <td>S</td>\n",
       "    </tr>\n",
       "    <tr>\n",
       "      <th>3</th>\n",
       "      <td>1</td>\n",
       "      <td>female</td>\n",
       "      <td>35.0</td>\n",
       "      <td>1</td>\n",
       "      <td>0</td>\n",
       "      <td>53.1000</td>\n",
       "      <td>S</td>\n",
       "    </tr>\n",
       "    <tr>\n",
       "      <th>4</th>\n",
       "      <td>3</td>\n",
       "      <td>male</td>\n",
       "      <td>35.0</td>\n",
       "      <td>0</td>\n",
       "      <td>0</td>\n",
       "      <td>8.0500</td>\n",
       "      <td>S</td>\n",
       "    </tr>\n",
       "  </tbody>\n",
       "</table>\n",
       "</div>"
      ],
      "text/plain": [
       "   Pclass     Sex   Age  SibSp  Parch     Fare Embarked\n",
       "0       3    male  22.0      1      0   7.2500        S\n",
       "1       1  female  38.0      1      0  71.2833        C\n",
       "2       3  female  26.0      0      0   7.9250        S\n",
       "3       1  female  35.0      1      0  53.1000        S\n",
       "4       3    male  35.0      0      0   8.0500        S"
      ]
     },
     "execution_count": 18,
     "metadata": {},
     "output_type": "execute_result"
    }
   ],
   "source": [
    "# Visualizar a base de dados atual\n",
    "df_total.head()"
   ]
  },
  {
   "cell_type": "markdown",
   "id": "5cc74584",
   "metadata": {
    "papermill": {
     "duration": 0.015109,
     "end_time": "2023-03-13T22:20:33.774745",
     "exception": false,
     "start_time": "2023-03-13T22:20:33.759636",
     "status": "completed"
    },
    "tags": []
   },
   "source": [
    "#### Tratando os missing values\n",
    "\n",
    "Como comentado anteriormente, a presença de valores faltantes no conjunto de dados influencia diretamente as análises exploratória e o aprendizado dos modelos. Desta forma, precisamos tratar esses dados adotando alguns métodos, por exemplo, excluindo esses valores ou substituindo-os por outros que possivelmente representem bem esses dados."
   ]
  },
  {
   "cell_type": "code",
   "execution_count": 19,
   "id": "da6b351b",
   "metadata": {
    "execution": {
     "iopub.execute_input": "2023-03-13T22:20:33.806829Z",
     "iopub.status.busy": "2023-03-13T22:20:33.806014Z",
     "iopub.status.idle": "2023-03-13T22:20:33.815211Z",
     "shell.execute_reply": "2023-03-13T22:20:33.814342Z"
    },
    "papermill": {
     "duration": 0.027709,
     "end_time": "2023-03-13T22:20:33.817424",
     "exception": false,
     "start_time": "2023-03-13T22:20:33.789715",
     "status": "completed"
    },
    "tags": []
   },
   "outputs": [
    {
     "data": {
      "text/plain": [
       "Pclass        0\n",
       "Sex           0\n",
       "Age         263\n",
       "SibSp         0\n",
       "Parch         0\n",
       "Fare          1\n",
       "Embarked      2\n",
       "dtype: int64"
      ]
     },
     "execution_count": 19,
     "metadata": {},
     "output_type": "execute_result"
    }
   ],
   "source": [
    "# Quantidade de missing values \n",
    "df_total.isnull().sum()"
   ]
  },
  {
   "cell_type": "markdown",
   "id": "69530c07",
   "metadata": {
    "papermill": {
     "duration": 0.014634,
     "end_time": "2023-03-13T22:20:33.847276",
     "exception": false,
     "start_time": "2023-03-13T22:20:33.832642",
     "status": "completed"
    },
    "tags": []
   },
   "source": [
    "Podemos perceber que a maior quantidade de dados faltantes está presente na variável **Age** e, como visto anteriormente, essa coluna também possui outliers. As colunas **Fare** e **Embarked** também apresentam valores faltantes, mas insignificantes, em quantidade, quando comparados à variável Age.\n",
    "\n",
    "Iremos utilizar os valores das medianas para substituir os dados ausentes das variáveis Age e Fare, enquanto para Embarked será usado o valor de maior frequência."
   ]
  },
  {
   "cell_type": "code",
   "execution_count": 20,
   "id": "55dc4f0a",
   "metadata": {
    "execution": {
     "iopub.execute_input": "2023-03-13T22:20:33.879025Z",
     "iopub.status.busy": "2023-03-13T22:20:33.878193Z",
     "iopub.status.idle": "2023-03-13T22:20:33.886930Z",
     "shell.execute_reply": "2023-03-13T22:20:33.886020Z"
    },
    "papermill": {
     "duration": 0.027598,
     "end_time": "2023-03-13T22:20:33.889645",
     "exception": false,
     "start_time": "2023-03-13T22:20:33.862047",
     "status": "completed"
    },
    "tags": []
   },
   "outputs": [],
   "source": [
    "# Substituindo os missing values de 'Age' pela mediana da coluna\n",
    "df_total.loc[df_total['Age'].isnull(), 'Age'] = df_total['Age'].median()\n",
    "\n",
    "# Substituindo os missing values de 'Fare' pela mediana da coluna\n",
    "df_total.loc[df_total['Fare'].isnull(), 'Fare'] = df_total['Fare'].median()"
   ]
  },
  {
   "cell_type": "code",
   "execution_count": 21,
   "id": "0287885b",
   "metadata": {
    "execution": {
     "iopub.execute_input": "2023-03-13T22:20:33.921794Z",
     "iopub.status.busy": "2023-03-13T22:20:33.920944Z",
     "iopub.status.idle": "2023-03-13T22:20:33.931282Z",
     "shell.execute_reply": "2023-03-13T22:20:33.929773Z"
    },
    "papermill": {
     "duration": 0.029937,
     "end_time": "2023-03-13T22:20:33.934610",
     "exception": false,
     "start_time": "2023-03-13T22:20:33.904673",
     "status": "completed"
    },
    "tags": []
   },
   "outputs": [
    {
     "name": "stdout",
     "output_type": "stream",
     "text": [
      "['S' 'C' 'Q' nan]\n",
      "S    914\n",
      "C    270\n",
      "Q    123\n",
      "Name: Embarked, dtype: int64\n"
     ]
    }
   ],
   "source": [
    "# Verificando a frequência dos valores de 'Embarked'\n",
    "print(df_total['Embarked'].unique())\n",
    "print(df_total['Embarked'].value_counts())\n",
    "\n",
    "# Substituindo os valores nulos de 'Embarked' por 'S'\n",
    "df_total.loc[df_total['Embarked'].isnull(), 'Embarked'] = 'S'"
   ]
  },
  {
   "cell_type": "code",
   "execution_count": 22,
   "id": "d988513c",
   "metadata": {
    "execution": {
     "iopub.execute_input": "2023-03-13T22:20:33.967577Z",
     "iopub.status.busy": "2023-03-13T22:20:33.966725Z",
     "iopub.status.idle": "2023-03-13T22:20:33.977252Z",
     "shell.execute_reply": "2023-03-13T22:20:33.976059Z"
    },
    "papermill": {
     "duration": 0.02979,
     "end_time": "2023-03-13T22:20:33.979754",
     "exception": false,
     "start_time": "2023-03-13T22:20:33.949964",
     "status": "completed"
    },
    "tags": []
   },
   "outputs": [
    {
     "data": {
      "text/plain": [
       "Pclass      0\n",
       "Sex         0\n",
       "Age         0\n",
       "SibSp       0\n",
       "Parch       0\n",
       "Fare        0\n",
       "Embarked    0\n",
       "dtype: int64"
      ]
     },
     "execution_count": 22,
     "metadata": {},
     "output_type": "execute_result"
    }
   ],
   "source": [
    "# Verificando se todas as substituições deram certo \n",
    "df_total.isnull().sum()"
   ]
  },
  {
   "cell_type": "markdown",
   "id": "01d150d3",
   "metadata": {
    "papermill": {
     "duration": 0.015265,
     "end_time": "2023-03-13T22:20:34.011460",
     "exception": false,
     "start_time": "2023-03-13T22:20:33.996195",
     "status": "completed"
    },
    "tags": []
   },
   "source": [
    "#### Ajustando variáveis \n",
    "\n",
    "Devemos converter as variáveis qualitativas 'Sex' e 'Embarked'em variáveis quantitativas (variáveis dummies)\n",
    "\n",
    "As variáveis 'Sex' e 'Embarked' contém informações textuais (qualitativas), porém para o algoritmo de previsão de machine learning, a variável númerica (quantitativa) acaba sendo melhor."
   ]
  },
  {
   "cell_type": "code",
   "execution_count": 23,
   "id": "471fbc44",
   "metadata": {
    "execution": {
     "iopub.execute_input": "2023-03-13T22:20:34.044011Z",
     "iopub.status.busy": "2023-03-13T22:20:34.043336Z",
     "iopub.status.idle": "2023-03-13T22:20:34.196788Z",
     "shell.execute_reply": "2023-03-13T22:20:34.195640Z"
    },
    "papermill": {
     "duration": 0.172633,
     "end_time": "2023-03-13T22:20:34.199384",
     "exception": false,
     "start_time": "2023-03-13T22:20:34.026751",
     "status": "completed"
    },
    "tags": []
   },
   "outputs": [],
   "source": [
    "# Importação de LabelEncoder para transformação das variáveis \n",
    "from sklearn.preprocessing import LabelEncoder"
   ]
  },
  {
   "cell_type": "code",
   "execution_count": 24,
   "id": "757acac4",
   "metadata": {
    "execution": {
     "iopub.execute_input": "2023-03-13T22:20:34.230748Z",
     "iopub.status.busy": "2023-03-13T22:20:34.230347Z",
     "iopub.status.idle": "2023-03-13T22:20:34.240277Z",
     "shell.execute_reply": "2023-03-13T22:20:34.239272Z"
    },
    "papermill": {
     "duration": 0.028416,
     "end_time": "2023-03-13T22:20:34.242672",
     "exception": false,
     "start_time": "2023-03-13T22:20:34.214256",
     "status": "completed"
    },
    "tags": []
   },
   "outputs": [],
   "source": [
    "# Trasnformação das variáeis Sex e Embarked de categóricas para numéricas \n",
    "df_total['Sex'] = df_total[['Sex']].apply(LabelEncoder().fit_transform)\n",
    "df_total['Embarked'] = df_total[['Embarked']].apply(LabelEncoder().fit_transform)"
   ]
  },
  {
   "cell_type": "code",
   "execution_count": 25,
   "id": "3d37f5c2",
   "metadata": {
    "execution": {
     "iopub.execute_input": "2023-03-13T22:20:34.275578Z",
     "iopub.status.busy": "2023-03-13T22:20:34.274993Z",
     "iopub.status.idle": "2023-03-13T22:20:34.290479Z",
     "shell.execute_reply": "2023-03-13T22:20:34.289672Z"
    },
    "papermill": {
     "duration": 0.034311,
     "end_time": "2023-03-13T22:20:34.292588",
     "exception": false,
     "start_time": "2023-03-13T22:20:34.258277",
     "status": "completed"
    },
    "tags": []
   },
   "outputs": [
    {
     "data": {
      "text/html": [
       "<div>\n",
       "<style scoped>\n",
       "    .dataframe tbody tr th:only-of-type {\n",
       "        vertical-align: middle;\n",
       "    }\n",
       "\n",
       "    .dataframe tbody tr th {\n",
       "        vertical-align: top;\n",
       "    }\n",
       "\n",
       "    .dataframe thead th {\n",
       "        text-align: right;\n",
       "    }\n",
       "</style>\n",
       "<table border=\"1\" class=\"dataframe\">\n",
       "  <thead>\n",
       "    <tr style=\"text-align: right;\">\n",
       "      <th></th>\n",
       "      <th>Pclass</th>\n",
       "      <th>Sex</th>\n",
       "      <th>Age</th>\n",
       "      <th>SibSp</th>\n",
       "      <th>Parch</th>\n",
       "      <th>Fare</th>\n",
       "      <th>Embarked</th>\n",
       "    </tr>\n",
       "  </thead>\n",
       "  <tbody>\n",
       "    <tr>\n",
       "      <th>0</th>\n",
       "      <td>3</td>\n",
       "      <td>1</td>\n",
       "      <td>22.0</td>\n",
       "      <td>1</td>\n",
       "      <td>0</td>\n",
       "      <td>7.2500</td>\n",
       "      <td>2</td>\n",
       "    </tr>\n",
       "    <tr>\n",
       "      <th>1</th>\n",
       "      <td>1</td>\n",
       "      <td>0</td>\n",
       "      <td>38.0</td>\n",
       "      <td>1</td>\n",
       "      <td>0</td>\n",
       "      <td>71.2833</td>\n",
       "      <td>0</td>\n",
       "    </tr>\n",
       "    <tr>\n",
       "      <th>2</th>\n",
       "      <td>3</td>\n",
       "      <td>0</td>\n",
       "      <td>26.0</td>\n",
       "      <td>0</td>\n",
       "      <td>0</td>\n",
       "      <td>7.9250</td>\n",
       "      <td>2</td>\n",
       "    </tr>\n",
       "    <tr>\n",
       "      <th>3</th>\n",
       "      <td>1</td>\n",
       "      <td>0</td>\n",
       "      <td>35.0</td>\n",
       "      <td>1</td>\n",
       "      <td>0</td>\n",
       "      <td>53.1000</td>\n",
       "      <td>2</td>\n",
       "    </tr>\n",
       "    <tr>\n",
       "      <th>4</th>\n",
       "      <td>3</td>\n",
       "      <td>1</td>\n",
       "      <td>35.0</td>\n",
       "      <td>0</td>\n",
       "      <td>0</td>\n",
       "      <td>8.0500</td>\n",
       "      <td>2</td>\n",
       "    </tr>\n",
       "    <tr>\n",
       "      <th>...</th>\n",
       "      <td>...</td>\n",
       "      <td>...</td>\n",
       "      <td>...</td>\n",
       "      <td>...</td>\n",
       "      <td>...</td>\n",
       "      <td>...</td>\n",
       "      <td>...</td>\n",
       "    </tr>\n",
       "    <tr>\n",
       "      <th>1304</th>\n",
       "      <td>3</td>\n",
       "      <td>1</td>\n",
       "      <td>28.0</td>\n",
       "      <td>0</td>\n",
       "      <td>0</td>\n",
       "      <td>8.0500</td>\n",
       "      <td>2</td>\n",
       "    </tr>\n",
       "    <tr>\n",
       "      <th>1305</th>\n",
       "      <td>1</td>\n",
       "      <td>0</td>\n",
       "      <td>39.0</td>\n",
       "      <td>0</td>\n",
       "      <td>0</td>\n",
       "      <td>108.9000</td>\n",
       "      <td>0</td>\n",
       "    </tr>\n",
       "    <tr>\n",
       "      <th>1306</th>\n",
       "      <td>3</td>\n",
       "      <td>1</td>\n",
       "      <td>38.5</td>\n",
       "      <td>0</td>\n",
       "      <td>0</td>\n",
       "      <td>7.2500</td>\n",
       "      <td>2</td>\n",
       "    </tr>\n",
       "    <tr>\n",
       "      <th>1307</th>\n",
       "      <td>3</td>\n",
       "      <td>1</td>\n",
       "      <td>28.0</td>\n",
       "      <td>0</td>\n",
       "      <td>0</td>\n",
       "      <td>8.0500</td>\n",
       "      <td>2</td>\n",
       "    </tr>\n",
       "    <tr>\n",
       "      <th>1308</th>\n",
       "      <td>3</td>\n",
       "      <td>1</td>\n",
       "      <td>28.0</td>\n",
       "      <td>1</td>\n",
       "      <td>1</td>\n",
       "      <td>22.3583</td>\n",
       "      <td>0</td>\n",
       "    </tr>\n",
       "  </tbody>\n",
       "</table>\n",
       "<p>1309 rows × 7 columns</p>\n",
       "</div>"
      ],
      "text/plain": [
       "      Pclass  Sex   Age  SibSp  Parch      Fare  Embarked\n",
       "0          3    1  22.0      1      0    7.2500         2\n",
       "1          1    0  38.0      1      0   71.2833         0\n",
       "2          3    0  26.0      0      0    7.9250         2\n",
       "3          1    0  35.0      1      0   53.1000         2\n",
       "4          3    1  35.0      0      0    8.0500         2\n",
       "...      ...  ...   ...    ...    ...       ...       ...\n",
       "1304       3    1  28.0      0      0    8.0500         2\n",
       "1305       1    0  39.0      0      0  108.9000         0\n",
       "1306       3    1  38.5      0      0    7.2500         2\n",
       "1307       3    1  28.0      0      0    8.0500         2\n",
       "1308       3    1  28.0      1      1   22.3583         0\n",
       "\n",
       "[1309 rows x 7 columns]"
      ]
     },
     "execution_count": 25,
     "metadata": {},
     "output_type": "execute_result"
    }
   ],
   "source": [
    "# Visualizar o resultado \n",
    "df_total"
   ]
  },
  {
   "cell_type": "markdown",
   "id": "4c03402f",
   "metadata": {
    "papermill": {
     "duration": 0.014874,
     "end_time": "2023-03-13T22:20:34.322940",
     "exception": false,
     "start_time": "2023-03-13T22:20:34.308066",
     "status": "completed"
    },
    "tags": []
   },
   "source": [
    "#### Dividindo novamente em conjuntos de Treino e Teste\n",
    "\n",
    "Depois de aplicar as devidas alterações nos conjuntos de dados, podemos separá-los novamente e obter os dados de treino e teste a partir do índice que salvamos no início, treino_ID e teste_ID."
   ]
  },
  {
   "cell_type": "code",
   "execution_count": 26,
   "id": "15053474",
   "metadata": {
    "execution": {
     "iopub.execute_input": "2023-03-13T22:20:34.355459Z",
     "iopub.status.busy": "2023-03-13T22:20:34.354860Z",
     "iopub.status.idle": "2023-03-13T22:20:34.359282Z",
     "shell.execute_reply": "2023-03-13T22:20:34.358346Z"
    },
    "papermill": {
     "duration": 0.023243,
     "end_time": "2023-03-13T22:20:34.361525",
     "exception": false,
     "start_time": "2023-03-13T22:20:34.338282",
     "status": "completed"
    },
    "tags": []
   },
   "outputs": [],
   "source": [
    "# Separando o df_total\n",
    "train = df_total.iloc[:train_ID]\n",
    "test = df_total.iloc[train_ID:]"
   ]
  },
  {
   "cell_type": "code",
   "execution_count": 27,
   "id": "e41f9fae",
   "metadata": {
    "execution": {
     "iopub.execute_input": "2023-03-13T22:20:34.394184Z",
     "iopub.status.busy": "2023-03-13T22:20:34.393781Z",
     "iopub.status.idle": "2023-03-13T22:20:34.414015Z",
     "shell.execute_reply": "2023-03-13T22:20:34.412947Z"
    },
    "papermill": {
     "duration": 0.039478,
     "end_time": "2023-03-13T22:20:34.416425",
     "exception": false,
     "start_time": "2023-03-13T22:20:34.376947",
     "status": "completed"
    },
    "tags": []
   },
   "outputs": [
    {
     "data": {
      "text/html": [
       "<div>\n",
       "<style scoped>\n",
       "    .dataframe tbody tr th:only-of-type {\n",
       "        vertical-align: middle;\n",
       "    }\n",
       "\n",
       "    .dataframe tbody tr th {\n",
       "        vertical-align: top;\n",
       "    }\n",
       "\n",
       "    .dataframe thead th {\n",
       "        text-align: right;\n",
       "    }\n",
       "</style>\n",
       "<table border=\"1\" class=\"dataframe\">\n",
       "  <thead>\n",
       "    <tr style=\"text-align: right;\">\n",
       "      <th></th>\n",
       "      <th>Pclass</th>\n",
       "      <th>Sex</th>\n",
       "      <th>Age</th>\n",
       "      <th>SibSp</th>\n",
       "      <th>Parch</th>\n",
       "      <th>Fare</th>\n",
       "      <th>Embarked</th>\n",
       "    </tr>\n",
       "  </thead>\n",
       "  <tbody>\n",
       "    <tr>\n",
       "      <th>0</th>\n",
       "      <td>3</td>\n",
       "      <td>1</td>\n",
       "      <td>22.0</td>\n",
       "      <td>1</td>\n",
       "      <td>0</td>\n",
       "      <td>7.2500</td>\n",
       "      <td>2</td>\n",
       "    </tr>\n",
       "    <tr>\n",
       "      <th>1</th>\n",
       "      <td>1</td>\n",
       "      <td>0</td>\n",
       "      <td>38.0</td>\n",
       "      <td>1</td>\n",
       "      <td>0</td>\n",
       "      <td>71.2833</td>\n",
       "      <td>0</td>\n",
       "    </tr>\n",
       "    <tr>\n",
       "      <th>2</th>\n",
       "      <td>3</td>\n",
       "      <td>0</td>\n",
       "      <td>26.0</td>\n",
       "      <td>0</td>\n",
       "      <td>0</td>\n",
       "      <td>7.9250</td>\n",
       "      <td>2</td>\n",
       "    </tr>\n",
       "    <tr>\n",
       "      <th>3</th>\n",
       "      <td>1</td>\n",
       "      <td>0</td>\n",
       "      <td>35.0</td>\n",
       "      <td>1</td>\n",
       "      <td>0</td>\n",
       "      <td>53.1000</td>\n",
       "      <td>2</td>\n",
       "    </tr>\n",
       "    <tr>\n",
       "      <th>4</th>\n",
       "      <td>3</td>\n",
       "      <td>1</td>\n",
       "      <td>35.0</td>\n",
       "      <td>0</td>\n",
       "      <td>0</td>\n",
       "      <td>8.0500</td>\n",
       "      <td>2</td>\n",
       "    </tr>\n",
       "  </tbody>\n",
       "</table>\n",
       "</div>"
      ],
      "text/plain": [
       "   Pclass  Sex   Age  SibSp  Parch     Fare  Embarked\n",
       "0       3    1  22.0      1      0   7.2500         2\n",
       "1       1    0  38.0      1      0  71.2833         0\n",
       "2       3    0  26.0      0      0   7.9250         2\n",
       "3       1    0  35.0      1      0  53.1000         2\n",
       "4       3    1  35.0      0      0   8.0500         2"
      ]
     },
     "metadata": {},
     "output_type": "display_data"
    },
    {
     "data": {
      "text/html": [
       "<div>\n",
       "<style scoped>\n",
       "    .dataframe tbody tr th:only-of-type {\n",
       "        vertical-align: middle;\n",
       "    }\n",
       "\n",
       "    .dataframe tbody tr th {\n",
       "        vertical-align: top;\n",
       "    }\n",
       "\n",
       "    .dataframe thead th {\n",
       "        text-align: right;\n",
       "    }\n",
       "</style>\n",
       "<table border=\"1\" class=\"dataframe\">\n",
       "  <thead>\n",
       "    <tr style=\"text-align: right;\">\n",
       "      <th></th>\n",
       "      <th>Pclass</th>\n",
       "      <th>Sex</th>\n",
       "      <th>Age</th>\n",
       "      <th>SibSp</th>\n",
       "      <th>Parch</th>\n",
       "      <th>Fare</th>\n",
       "      <th>Embarked</th>\n",
       "    </tr>\n",
       "  </thead>\n",
       "  <tbody>\n",
       "    <tr>\n",
       "      <th>891</th>\n",
       "      <td>3</td>\n",
       "      <td>1</td>\n",
       "      <td>34.5</td>\n",
       "      <td>0</td>\n",
       "      <td>0</td>\n",
       "      <td>7.8292</td>\n",
       "      <td>1</td>\n",
       "    </tr>\n",
       "    <tr>\n",
       "      <th>892</th>\n",
       "      <td>3</td>\n",
       "      <td>0</td>\n",
       "      <td>47.0</td>\n",
       "      <td>1</td>\n",
       "      <td>0</td>\n",
       "      <td>7.0000</td>\n",
       "      <td>2</td>\n",
       "    </tr>\n",
       "    <tr>\n",
       "      <th>893</th>\n",
       "      <td>2</td>\n",
       "      <td>1</td>\n",
       "      <td>62.0</td>\n",
       "      <td>0</td>\n",
       "      <td>0</td>\n",
       "      <td>9.6875</td>\n",
       "      <td>1</td>\n",
       "    </tr>\n",
       "    <tr>\n",
       "      <th>894</th>\n",
       "      <td>3</td>\n",
       "      <td>1</td>\n",
       "      <td>27.0</td>\n",
       "      <td>0</td>\n",
       "      <td>0</td>\n",
       "      <td>8.6625</td>\n",
       "      <td>2</td>\n",
       "    </tr>\n",
       "    <tr>\n",
       "      <th>895</th>\n",
       "      <td>3</td>\n",
       "      <td>0</td>\n",
       "      <td>22.0</td>\n",
       "      <td>1</td>\n",
       "      <td>1</td>\n",
       "      <td>12.2875</td>\n",
       "      <td>2</td>\n",
       "    </tr>\n",
       "  </tbody>\n",
       "</table>\n",
       "</div>"
      ],
      "text/plain": [
       "     Pclass  Sex   Age  SibSp  Parch     Fare  Embarked\n",
       "891       3    1  34.5      0      0   7.8292         1\n",
       "892       3    0  47.0      1      0   7.0000         2\n",
       "893       2    1  62.0      0      0   9.6875         1\n",
       "894       3    1  27.0      0      0   8.6625         2\n",
       "895       3    0  22.0      1      1  12.2875         2"
      ]
     },
     "metadata": {},
     "output_type": "display_data"
    }
   ],
   "source": [
    "# Confirmando o resultado \n",
    "display(train.head())\n",
    "display(test.head())"
   ]
  },
  {
   "cell_type": "markdown",
   "id": "7f171f88",
   "metadata": {
    "papermill": {
     "duration": 0.015913,
     "end_time": "2023-03-13T22:20:34.448229",
     "exception": false,
     "start_time": "2023-03-13T22:20:34.432316",
     "status": "completed"
    },
    "tags": []
   },
   "source": [
    "#### Implementação do Modelo\n",
    "\n",
    "Esta etapa costuma ser mais rápida de ser realizada, justamente porque a maior parte do tempo foi investido na análise exploratória e tratamento dos dados. Outro fator, é que a implementação dos modelos de machine learning são muito automatizados, sendo necessário apenas algumas linhas de código para treinar, testar e avaliar o modelo."
   ]
  },
  {
   "cell_type": "markdown",
   "id": "7ce1cf42",
   "metadata": {
    "papermill": {
     "duration": 0.01524,
     "end_time": "2023-03-13T22:20:34.479046",
     "exception": false,
     "start_time": "2023-03-13T22:20:34.463806",
     "status": "completed"
    },
    "tags": []
   },
   "source": [
    "## Regressão Logística"
   ]
  },
  {
   "cell_type": "code",
   "execution_count": 28,
   "id": "76033fbe",
   "metadata": {
    "execution": {
     "iopub.execute_input": "2023-03-13T22:20:34.512278Z",
     "iopub.status.busy": "2023-03-13T22:20:34.511593Z",
     "iopub.status.idle": "2023-03-13T22:20:34.656353Z",
     "shell.execute_reply": "2023-03-13T22:20:34.654904Z"
    },
    "papermill": {
     "duration": 0.16406,
     "end_time": "2023-03-13T22:20:34.658717",
     "exception": false,
     "start_time": "2023-03-13T22:20:34.494657",
     "status": "completed"
    },
    "tags": []
   },
   "outputs": [
    {
     "data": {
      "text/plain": [
       "LogisticRegression(solver='liblinear')"
      ]
     },
     "execution_count": 28,
     "metadata": {},
     "output_type": "execute_result"
    }
   ],
   "source": [
    "# Importação do modelo\n",
    "from sklearn.linear_model import LogisticRegression\n",
    "\n",
    "# Instanciando o modelo \n",
    "lr_model = LogisticRegression(solver = 'liblinear')\n",
    "\n",
    "# Treinando o modelo \n",
    "lr_model.fit(train, target)"
   ]
  },
  {
   "cell_type": "code",
   "execution_count": 29,
   "id": "c841ca2f",
   "metadata": {
    "execution": {
     "iopub.execute_input": "2023-03-13T22:20:34.692454Z",
     "iopub.status.busy": "2023-03-13T22:20:34.692016Z",
     "iopub.status.idle": "2023-03-13T22:20:34.705121Z",
     "shell.execute_reply": "2023-03-13T22:20:34.703420Z"
    },
    "papermill": {
     "duration": 0.033924,
     "end_time": "2023-03-13T22:20:34.708787",
     "exception": false,
     "start_time": "2023-03-13T22:20:34.674863",
     "status": "completed"
    },
    "tags": []
   },
   "outputs": [
    {
     "name": "stdout",
     "output_type": "stream",
     "text": [
      "Acurácia teste: 80.36%\n"
     ]
    }
   ],
   "source": [
    "# Predição do modelo\n",
    "y_pred_lr = lr_model.predict(test)\n",
    "\n",
    "# Acurácia do modelo \n",
    "accuracy = lr_model.score(train, target)\n",
    "print(f\"Acurácia teste: {accuracy * 100:.2f}%\")"
   ]
  },
  {
   "cell_type": "markdown",
   "id": "4c6bf1ba",
   "metadata": {
    "papermill": {
     "duration": 0.015985,
     "end_time": "2023-03-13T22:20:34.741142",
     "exception": false,
     "start_time": "2023-03-13T22:20:34.725157",
     "status": "completed"
    },
    "tags": []
   },
   "source": [
    "### Submissão dos Resultados na Plataforma Kaggle\n",
    "\n",
    "A última etapa do projeto é submeter a previsão do modelo no Kaggle e ver o desempenho.\n",
    "\n",
    "Para isso, precisamos gerar o arquivo de submissão."
   ]
  },
  {
   "cell_type": "code",
   "execution_count": 30,
   "id": "687fa203",
   "metadata": {
    "execution": {
     "iopub.execute_input": "2023-03-13T22:20:34.776621Z",
     "iopub.status.busy": "2023-03-13T22:20:34.774386Z",
     "iopub.status.idle": "2023-03-13T22:20:34.785549Z",
     "shell.execute_reply": "2023-03-13T22:20:34.784487Z"
    },
    "papermill": {
     "duration": 0.031047,
     "end_time": "2023-03-13T22:20:34.788187",
     "exception": false,
     "start_time": "2023-03-13T22:20:34.757140",
     "status": "completed"
    },
    "tags": []
   },
   "outputs": [],
   "source": [
    "submission = pd.DataFrame({'PassengerID': Passenger_ID, 'Survived': y_pred_lr})\n",
    "\n",
    "submission.to_csv('./submission_lr.csv', index = False)"
   ]
  }
 ],
 "metadata": {
  "kernelspec": {
   "display_name": "Python 3",
   "language": "python",
   "name": "python3"
  },
  "language_info": {
   "codemirror_mode": {
    "name": "ipython",
    "version": 3
   },
   "file_extension": ".py",
   "mimetype": "text/x-python",
   "name": "python",
   "nbconvert_exporter": "python",
   "pygments_lexer": "ipython3",
   "version": "3.7.12"
  },
  "papermill": {
   "default_parameters": {},
   "duration": 18.303251,
   "end_time": "2023-03-13T22:20:35.626198",
   "environment_variables": {},
   "exception": null,
   "input_path": "__notebook__.ipynb",
   "output_path": "__notebook__.ipynb",
   "parameters": {},
   "start_time": "2023-03-13T22:20:17.322947",
   "version": "2.3.4"
  }
 },
 "nbformat": 4,
 "nbformat_minor": 5
}
